{
 "cells": [
  {
   "cell_type": "markdown",
   "id": "a0db35a4",
   "metadata": {},
   "source": [
    "# Defining function\n",
    "1. Use command: def ... ()\n",
    "np. def sum(a,b):"
   ]
  },
  {
   "cell_type": "markdown",
   "id": "5fa1cd73",
   "metadata": {},
   "source": [
    "# Function body\n",
    "\n",
    "2. Define what our function need to do\n",
    "def sum(a,b): print(a+b)"
   ]
  },
  {
   "cell_type": "markdown",
   "id": "ddf903f7",
   "metadata": {},
   "source": [
    "# Return result\n",
    "\n",
    "3. This is how to elicit function\n",
    "sum(a,b)"
   ]
  },
  {
   "cell_type": "markdown",
   "id": "55e2534f",
   "metadata": {},
   "source": [
    "# Elicit"
   ]
  },
  {
   "cell_type": "code",
   "execution_count": 3,
   "id": "881bab27",
   "metadata": {},
   "outputs": [
    {
     "name": "stdout",
     "output_type": "stream",
     "text": [
      "76\n"
     ]
    }
   ],
   "source": [
    "a=3\n",
    "b=73\n",
    "def sum(a,b):\n",
    "    print(a+b)\n",
    "    \n",
    "sum(a,b)"
   ]
  },
  {
   "cell_type": "code",
   "execution_count": null,
   "id": "50f963bb",
   "metadata": {},
   "outputs": [],
   "source": []
  }
 ],
 "metadata": {
  "kernelspec": {
   "display_name": "Python 3 (ipykernel)",
   "language": "python",
   "name": "python3"
  },
  "language_info": {
   "codemirror_mode": {
    "name": "ipython",
    "version": 3
   },
   "file_extension": ".py",
   "mimetype": "text/x-python",
   "name": "python",
   "nbconvert_exporter": "python",
   "pygments_lexer": "ipython3",
   "version": "3.10.5"
  }
 },
 "nbformat": 4,
 "nbformat_minor": 5
}
